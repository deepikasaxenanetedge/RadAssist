{
  "nbformat": 4,
  "nbformat_minor": 0,
  "metadata": {
    "colab": {
      "provenance": []
    },
    "kernelspec": {
      "name": "python3",
      "display_name": "Python 3"
    },
    "language_info": {
      "name": "python"
    }
  },
  "cells": [
    {
      "cell_type": "code",
      "execution_count": null,
      "metadata": {
        "id": "Oe0mwkIv6hmj"
      },
      "outputs": [],
      "source": [
        "import openai\n",
        "import os\n",
        "\n",
        "def extract_named_entities(text, api_key):\n",
        "    \"\"\"Extracts named entities from a radiology report using OpenAI's API.\"\"\"\n",
        "    openai.api_key = api_key\n",
        "    prompt = f\"\"\"\n",
        "    Extract the named entities (such as anatomical structures, abnormalities, conditions, and measurements) from the following radiology report:\n",
        "    \"\"\" + text\n",
        "    response = openai.ChatCompletion.create(\n",
        "        model=\"gpt-4-turbo\",\n",
        "        messages=[\n",
        "            {\"role\": \"system\", \"content\": \"You are a medical language model trained to extract key named entities from radiology reports.\"},\n",
        "            {\"role\": \"user\", \"content\": prompt}\n",
        "        ]\n",
        "    )\n",
        "    return response[\"choices\"][0][\"message\"][\"content\"].strip()\n",
        "\n",
        "def summarize_report(text, api_key):\n",
        "    \"\"\"Summarizes the radiology report using OpenAI's API.\"\"\"\n",
        "    openai.api_key = api_key\n",
        "    prompt = f\"\"\"\n",
        "    Summarize the following radiology report, highlighting key findings:\n",
        "    \"\"\" + text\n",
        "    response = openai.ChatCompletion.create(\n",
        "        model=\"gpt-4-turbo\",\n",
        "        messages=[\n",
        "            {\"role\": \"system\", \"content\": \"You are a medical assistant trained to summarize radiology reports concisely.\"},\n",
        "            {\"role\": \"user\", \"content\": prompt}\n",
        "        ]\n",
        "    )\n",
        "    return response[\"choices\"][0][\"message\"][\"content\"].strip()\n",
        "\n",
        "if __name__ == \"__main__\":\n",
        "    api_key = os.getenv(\"OPENAI_API_KEY\")  # Store your OpenAI API key in an environment variable\n",
        "    radiology_text = \"\"\"\n",
        "    The MRI of the brain reveals a 2 cm enhancing lesion in the left frontal lobe with surrounding edema.\n",
        "    There is mild midline shift. No evidence of hemorrhage. The ventricles are normal in size.\n",
        "    \"\"\"\n",
        "\n",
        "    named_entities = extract_named_entities(radiology_text, api_key)\n",
        "    summary = summarize_report(radiology_text, api_key)\n",
        "\n",
        "    print(\"Named Entities:\")\n",
        "    print(named_entities)\n",
        "    print(\"\\nSummary:\")\n",
        "    print(summary)\n"
      ]
    }
  ]
}