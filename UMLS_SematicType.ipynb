{
  "nbformat": 4,
  "nbformat_minor": 0,
  "metadata": {
    "colab": {
      "provenance": []
    },
    "kernelspec": {
      "name": "python3",
      "display_name": "Python 3"
    },
    "language_info": {
      "name": "python"
    }
  },
  "cells": [
    {
      "cell_type": "code",
      "source": [
        "import requests\n",
        "\n",
        "def get_semantic_type(apikey, term, version=\"current\", sabs=None, searchtype=None):\n",
        "    \"\"\"Queries UMLS API for the Semantic Type of a given term.\"\"\"\n",
        "    base_uri = 'https://uts-ws.nlm.nih.gov'\n",
        "\n",
        "    # Query UMLS API\n",
        "    path = f'/search/{version}'\n",
        "    query = {\n",
        "        'string': term,\n",
        "        'apiKey': apikey,\n",
        "        'rootSource': sabs,\n",
        "        'searchType': searchtype,\n",
        "        'pageNumber': 1\n",
        "    }\n",
        "    response = requests.get(base_uri + path, params=query)\n",
        "    response.encoding = 'utf-8'\n",
        "    data = response.json()\n",
        "\n",
        "    try:\n",
        "        results = data['result']['results']\n",
        "        if not results:\n",
        "            print(f\"No results found for '{term}'\")\n",
        "            return\n",
        "\n",
        "        cui = results[0]['ui']\n",
        "\n",
        "\n",
        "        path = f'/content/{version}/CUI/{cui}'\n",
        "        query = {'apiKey': apikey}\n",
        "        response = requests.get(base_uri + path, params=query)\n",
        "        data = response.json()\n",
        "\n",
        "        semantic_type = data['result']['semanticTypes'][0]['name']\n",
        "        print(f\"🔹 Semantic Type for '{term}': {semantic_type}\")\n",
        "\n",
        "    except KeyError:\n",
        "        print(\"⚠️ Error retrieving data. Check API key or input term.\")\n",
        "\n",
        "# Example usage:\n",
        "get_semantic_type(apikey=\"12ac60b3-1676-4696-91b6-ac4048aab0e9\", term=\"midline\")\n"
      ],
      "metadata": {
        "colab": {
          "base_uri": "https://localhost:8080/"
        },
        "id": "2iL2Ic_QaBYn",
        "outputId": "ef4cd70b-6441-451c-be0b-6bb26b23d46a"
      },
      "execution_count": 30,
      "outputs": [
        {
          "output_type": "stream",
          "name": "stdout",
          "text": [
            "🔹 Semantic Type for 'midline': Spatial Concept\n"
          ]
        }
      ]
    },
    {
      "cell_type": "code",
      "source": [
        "import requests\n",
        "\n",
        "def get_semantic_type(apikey, term, version=\"current\", sabs=None, searchtype=None):\n",
        "    \"\"\"Queries UMLS API for the Semantic Type of a given term.\"\"\"\n",
        "    base_uri = 'https://uts-ws.nlm.nih.gov'\n",
        "\n",
        "    # Query UMLS API\n",
        "    path = f'/search/{version}'\n",
        "    query = {\n",
        "        'string': term,\n",
        "        'apiKey': apikey,\n",
        "        'rootSource': sabs,\n",
        "        'searchType': searchtype,\n",
        "        'pageNumber': 1\n",
        "    }\n",
        "    response = requests.get(base_uri + path, params=query)\n",
        "    response.encoding = 'utf-8'\n",
        "    data = response.json()\n",
        "\n",
        "    try:\n",
        "        results = data['result']['results']\n",
        "        if not results:\n",
        "            print(f\"No results found for '{term}'\")\n",
        "            return\n",
        "\n",
        "        cui = results[0]['ui']\n",
        "\n",
        "\n",
        "        path = f'/content/{version}/CUI/{cui}'\n",
        "        query = {'apiKey': apikey}\n",
        "        response = requests.get(base_uri + path, params=query)\n",
        "        data = response.json()\n",
        "\n",
        "        semantic_type = data['result']['semanticTypes'][0]['name']\n",
        "        print(f\"🔹 Semantic Type for '{term}': {semantic_type}\")\n",
        "\n",
        "    except KeyError:\n",
        "        print(\"⚠️ Error retrieving data. Check API key or input term.\")\n",
        "\n",
        "# Example usage:\n",
        "get_semantic_type(apikey=\"12ac60b3-1676-4696-91b6-ac4048aab0e9\", term=\"cardiothoracic ratio\")"
      ],
      "metadata": {
        "colab": {
          "base_uri": "https://localhost:8080/"
        },
        "id": "zkERf6rwbeY5",
        "outputId": "397148a0-638e-4d6a-fa6d-3cef10495083"
      },
      "execution_count": 24,
      "outputs": [
        {
          "output_type": "stream",
          "name": "stdout",
          "text": [
            "🔹 Semantic Type for 'cardiothoracic ratio': Diagnostic Procedure\n"
          ]
        }
      ]
    },
    {
      "cell_type": "code",
      "source": [
        "import requests\n",
        "\n",
        "def get_semantic_type(apikey, term, version=\"current\", sabs=None, searchtype=None):\n",
        "\n",
        "    base_uri = 'https://uts-ws.nlm.nih.gov'\n",
        "\n",
        "    # Query UMLS API\n",
        "    path = f'/search/{version}'\n",
        "    query = {\n",
        "        'string': term,\n",
        "        'apiKey': apikey,\n",
        "        'rootSource': sabs,\n",
        "        'searchType': searchtype,\n",
        "        'pageNumber': 1\n",
        "    }\n",
        "    response = requests.get(base_uri + path, params=query)\n",
        "    response.encoding = 'utf-8'\n",
        "    data = response.json()\n",
        "\n",
        "    try:\n",
        "        results = data['result']['results']\n",
        "        if not results:\n",
        "            print(f\"No results found for '{term}'\")\n",
        "            return\n",
        "\n",
        "        cui = results[0]['ui']\n",
        "\n",
        "\n",
        "        path = f'/content/{version}/CUI/{cui}'\n",
        "        query = {'apiKey': apikey}\n",
        "        response = requests.get(base_uri + path, params=query)\n",
        "        data = response.json()\n",
        "\n",
        "        semantic_type = data['result']['semanticTypes'][0]['name']\n",
        "        print(f\"🔹 Semantic Type for '{term}': {semantic_type}\")\n",
        "\n",
        "    except KeyError:\n",
        "        print(\"Error retrieving data. Check API key or input term.\")\n",
        "\n",
        "\n",
        "get_semantic_type(apikey=\"12ac60b3-1676-4696-91b6-ac4048aab0e9\", term=\"lungs\")"
      ],
      "metadata": {
        "colab": {
          "base_uri": "https://localhost:8080/"
        },
        "id": "UrkgmG9pc_PA",
        "outputId": "2f555137-20aa-4de2-b47d-5ce08afd0fb3"
      },
      "execution_count": 27,
      "outputs": [
        {
          "output_type": "stream",
          "name": "stdout",
          "text": [
            "🔹 Semantic Type for 'lungs': Body Part, Organ, or Organ Component\n"
          ]
        }
      ]
    },
    {
      "cell_type": "code",
      "source": [
        "\n",
        "import requests\n",
        "\n",
        "def get_semantic_type(apikey, term, version=\"current\", sabs=None, searchtype=None):\n",
        "\n",
        "    base_uri = 'https://uts-ws.nlm.nih.gov'\n",
        "\n",
        "    # Query UMLS API\n",
        "    path = f'/search/{version}'\n",
        "    query = {\n",
        "        'string': term,\n",
        "        'apiKey': apikey,\n",
        "        'rootSource': sabs,\n",
        "        'searchType': searchtype,\n",
        "        'pageNumber': 1\n",
        "    }\n",
        "    response = requests.get(base_uri + path, params=query)\n",
        "    response.encoding = 'utf-8'\n",
        "    data = response.json()\n",
        "\n",
        "    try:\n",
        "        results = data['result']['results']\n",
        "        if not results:\n",
        "            print(f\"No results found for '{term}'\")\n",
        "            return\n",
        "\n",
        "        cui = results[0]['ui']\n",
        "\n",
        "\n",
        "        path = f'/content/{version}/CUI/{cui}'\n",
        "        query = {'apiKey': apikey}\n",
        "        response = requests.get(base_uri + path, params=query)\n",
        "        data = response.json()\n",
        "\n",
        "        semantic_type = data['result']['semanticTypes'][0]['name']\n",
        "        print(f\"🔹 Semantic Type for '{term}': {semantic_type}\")\n",
        "\n",
        "    except KeyError:\n",
        "        print(\"Error retrieving data. Check API key or input term.\")\n",
        "\n",
        "\n",
        "get_semantic_type(apikey=\"12ac60b3-1676-4696-91b6-ac4048aab0e9\", term=\" lung \")"
      ],
      "metadata": {
        "colab": {
          "base_uri": "https://localhost:8080/"
        },
        "id": "teb-ZxjhdFR2",
        "outputId": "4645838c-9232-4f29-c08f-fcfa854955e3"
      },
      "execution_count": 2,
      "outputs": [
        {
          "output_type": "stream",
          "name": "stdout",
          "text": [
            "🔹 Semantic Type for ' lung ': Body Part, Organ, or Organ Component\n"
          ]
        }
      ]
    },
    {
      "cell_type": "code",
      "source": [],
      "metadata": {
        "id": "IAbGxG_Mtbdx"
      },
      "execution_count": null,
      "outputs": []
    }
  ]
}